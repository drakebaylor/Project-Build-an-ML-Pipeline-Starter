{
 "cells": [
  {
   "cell_type": "code",
   "execution_count": 1,
   "id": "1f72a955",
   "metadata": {
    "scrolled": true,
    "tags": []
   },
   "outputs": [
    {
     "name": "stdout",
     "output_type": "stream",
     "text": [
      "Requirement already satisfied: wandb==0.16.0 in /home/drake/miniconda3/envs/nyc_airbnb_dev/lib/python3.10/site-packages (0.16.0)\n",
      "Requirement already satisfied: Click!=8.0.0,>=7.1 in /home/drake/miniconda3/envs/nyc_airbnb_dev/lib/python3.10/site-packages (from wandb==0.16.0) (8.2.1)\n",
      "Requirement already satisfied: GitPython!=3.1.29,>=1.0.0 in /home/drake/miniconda3/envs/nyc_airbnb_dev/lib/python3.10/site-packages (from wandb==0.16.0) (3.1.44)\n",
      "Requirement already satisfied: requests<3,>=2.0.0 in /home/drake/miniconda3/envs/nyc_airbnb_dev/lib/python3.10/site-packages (from wandb==0.16.0) (2.32.4)\n",
      "Requirement already satisfied: psutil>=5.0.0 in /home/drake/miniconda3/envs/nyc_airbnb_dev/lib/python3.10/site-packages (from wandb==0.16.0) (7.0.0)\n",
      "Requirement already satisfied: sentry-sdk>=1.0.0 in /home/drake/miniconda3/envs/nyc_airbnb_dev/lib/python3.10/site-packages (from wandb==0.16.0) (2.32.0)\n",
      "Requirement already satisfied: docker-pycreds>=0.4.0 in /home/drake/miniconda3/envs/nyc_airbnb_dev/lib/python3.10/site-packages (from wandb==0.16.0) (0.4.0)\n",
      "Requirement already satisfied: PyYAML in /home/drake/miniconda3/envs/nyc_airbnb_dev/lib/python3.10/site-packages (from wandb==0.16.0) (6.0.2)\n",
      "Requirement already satisfied: setproctitle in /home/drake/miniconda3/envs/nyc_airbnb_dev/lib/python3.10/site-packages (from wandb==0.16.0) (1.3.6)\n",
      "Requirement already satisfied: setuptools in /home/drake/miniconda3/envs/nyc_airbnb_dev/lib/python3.10/site-packages (from wandb==0.16.0) (80.9.0)\n",
      "Requirement already satisfied: appdirs>=1.4.3 in /home/drake/miniconda3/envs/nyc_airbnb_dev/lib/python3.10/site-packages (from wandb==0.16.0) (1.4.4)\n",
      "Requirement already satisfied: protobuf!=4.21.0,<5,>=3.19.0 in /home/drake/miniconda3/envs/nyc_airbnb_dev/lib/python3.10/site-packages (from wandb==0.16.0) (4.25.8)\n",
      "Requirement already satisfied: six>=1.4.0 in /home/drake/miniconda3/envs/nyc_airbnb_dev/lib/python3.10/site-packages (from docker-pycreds>=0.4.0->wandb==0.16.0) (1.17.0)\n",
      "Requirement already satisfied: gitdb<5,>=4.0.1 in /home/drake/miniconda3/envs/nyc_airbnb_dev/lib/python3.10/site-packages (from GitPython!=3.1.29,>=1.0.0->wandb==0.16.0) (4.0.12)\n",
      "Requirement already satisfied: charset_normalizer<4,>=2 in /home/drake/miniconda3/envs/nyc_airbnb_dev/lib/python3.10/site-packages (from requests<3,>=2.0.0->wandb==0.16.0) (3.4.2)\n",
      "Requirement already satisfied: idna<4,>=2.5 in /home/drake/miniconda3/envs/nyc_airbnb_dev/lib/python3.10/site-packages (from requests<3,>=2.0.0->wandb==0.16.0) (3.10)\n",
      "Requirement already satisfied: urllib3<3,>=1.21.1 in /home/drake/miniconda3/envs/nyc_airbnb_dev/lib/python3.10/site-packages (from requests<3,>=2.0.0->wandb==0.16.0) (2.5.0)\n",
      "Requirement already satisfied: certifi>=2017.4.17 in /home/drake/miniconda3/envs/nyc_airbnb_dev/lib/python3.10/site-packages (from requests<3,>=2.0.0->wandb==0.16.0) (2025.6.15)\n",
      "Requirement already satisfied: smmap<6,>=3.0.1 in /home/drake/miniconda3/envs/nyc_airbnb_dev/lib/python3.10/site-packages (from gitdb<5,>=4.0.1->GitPython!=3.1.29,>=1.0.0->wandb==0.16.0) (5.0.2)\n",
      "Requirement already satisfied: ydata-profiling==4.12.1 in /home/drake/miniconda3/envs/nyc_airbnb_dev/lib/python3.10/site-packages (4.12.1)\n",
      "Requirement already satisfied: scipy<1.14,>=1.4.1 in /home/drake/miniconda3/envs/nyc_airbnb_dev/lib/python3.10/site-packages (from ydata-profiling==4.12.1) (1.13.1)\n",
      "Requirement already satisfied: pandas!=1.4.0,<3,>1.1 in /home/drake/miniconda3/envs/nyc_airbnb_dev/lib/python3.10/site-packages (from ydata-profiling==4.12.1) (2.1.3)\n",
      "Requirement already satisfied: matplotlib<3.10,>=3.5 in /home/drake/miniconda3/envs/nyc_airbnb_dev/lib/python3.10/site-packages (from ydata-profiling==4.12.1) (3.8.2)\n",
      "Requirement already satisfied: pydantic>=2 in /home/drake/miniconda3/envs/nyc_airbnb_dev/lib/python3.10/site-packages (from ydata-profiling==4.12.1) (2.11.7)\n",
      "Requirement already satisfied: PyYAML<6.1,>=5.0.0 in /home/drake/miniconda3/envs/nyc_airbnb_dev/lib/python3.10/site-packages (from ydata-profiling==4.12.1) (6.0.2)\n",
      "Requirement already satisfied: jinja2<3.2,>=2.11.1 in /home/drake/miniconda3/envs/nyc_airbnb_dev/lib/python3.10/site-packages (from ydata-profiling==4.12.1) (3.1.6)\n",
      "Requirement already satisfied: visions<0.7.7,>=0.7.5 in /home/drake/miniconda3/envs/nyc_airbnb_dev/lib/python3.10/site-packages (from visions[type_image_path]<0.7.7,>=0.7.5->ydata-profiling==4.12.1) (0.7.6)\n",
      "Requirement already satisfied: numpy<2.2,>=1.16.0 in /home/drake/miniconda3/envs/nyc_airbnb_dev/lib/python3.10/site-packages (from ydata-profiling==4.12.1) (1.26.4)\n",
      "Requirement already satisfied: htmlmin==0.1.12 in /home/drake/miniconda3/envs/nyc_airbnb_dev/lib/python3.10/site-packages (from ydata-profiling==4.12.1) (0.1.12)\n",
      "Requirement already satisfied: phik<0.13,>=0.11.1 in /home/drake/miniconda3/envs/nyc_airbnb_dev/lib/python3.10/site-packages (from ydata-profiling==4.12.1) (0.12.4)\n",
      "Requirement already satisfied: requests<3,>=2.24.0 in /home/drake/miniconda3/envs/nyc_airbnb_dev/lib/python3.10/site-packages (from ydata-profiling==4.12.1) (2.32.4)\n",
      "Requirement already satisfied: tqdm<5,>=4.48.2 in /home/drake/miniconda3/envs/nyc_airbnb_dev/lib/python3.10/site-packages (from ydata-profiling==4.12.1) (4.67.1)\n",
      "Requirement already satisfied: seaborn<0.14,>=0.10.1 in /home/drake/miniconda3/envs/nyc_airbnb_dev/lib/python3.10/site-packages (from ydata-profiling==4.12.1) (0.13.2)\n",
      "Requirement already satisfied: multimethod<2,>=1.4 in /home/drake/miniconda3/envs/nyc_airbnb_dev/lib/python3.10/site-packages (from ydata-profiling==4.12.1) (1.12)\n",
      "Requirement already satisfied: statsmodels<1,>=0.13.2 in /home/drake/miniconda3/envs/nyc_airbnb_dev/lib/python3.10/site-packages (from ydata-profiling==4.12.1) (0.14.4)\n",
      "Requirement already satisfied: typeguard<5,>=3 in /home/drake/miniconda3/envs/nyc_airbnb_dev/lib/python3.10/site-packages (from ydata-profiling==4.12.1) (4.4.4)\n",
      "Requirement already satisfied: imagehash==4.3.1 in /home/drake/miniconda3/envs/nyc_airbnb_dev/lib/python3.10/site-packages (from ydata-profiling==4.12.1) (4.3.1)\n",
      "Requirement already satisfied: wordcloud>=1.9.3 in /home/drake/miniconda3/envs/nyc_airbnb_dev/lib/python3.10/site-packages (from ydata-profiling==4.12.1) (1.9.4)\n",
      "Requirement already satisfied: dacite>=1.8 in /home/drake/miniconda3/envs/nyc_airbnb_dev/lib/python3.10/site-packages (from ydata-profiling==4.12.1) (1.9.2)\n",
      "Requirement already satisfied: numba<1,>=0.56.0 in /home/drake/miniconda3/envs/nyc_airbnb_dev/lib/python3.10/site-packages (from ydata-profiling==4.12.1) (0.61.2)\n",
      "Requirement already satisfied: PyWavelets in /home/drake/miniconda3/envs/nyc_airbnb_dev/lib/python3.10/site-packages (from imagehash==4.3.1->ydata-profiling==4.12.1) (1.8.0)\n",
      "Requirement already satisfied: pillow in /home/drake/miniconda3/envs/nyc_airbnb_dev/lib/python3.10/site-packages (from imagehash==4.3.1->ydata-profiling==4.12.1) (11.3.0)\n",
      "Requirement already satisfied: MarkupSafe>=2.0 in /home/drake/miniconda3/envs/nyc_airbnb_dev/lib/python3.10/site-packages (from jinja2<3.2,>=2.11.1->ydata-profiling==4.12.1) (3.0.2)\n",
      "Requirement already satisfied: contourpy>=1.0.1 in /home/drake/miniconda3/envs/nyc_airbnb_dev/lib/python3.10/site-packages (from matplotlib<3.10,>=3.5->ydata-profiling==4.12.1) (1.3.2)\n",
      "Requirement already satisfied: cycler>=0.10 in /home/drake/miniconda3/envs/nyc_airbnb_dev/lib/python3.10/site-packages (from matplotlib<3.10,>=3.5->ydata-profiling==4.12.1) (0.12.1)\n",
      "Requirement already satisfied: fonttools>=4.22.0 in /home/drake/miniconda3/envs/nyc_airbnb_dev/lib/python3.10/site-packages (from matplotlib<3.10,>=3.5->ydata-profiling==4.12.1) (4.58.4)\n",
      "Requirement already satisfied: kiwisolver>=1.3.1 in /home/drake/miniconda3/envs/nyc_airbnb_dev/lib/python3.10/site-packages (from matplotlib<3.10,>=3.5->ydata-profiling==4.12.1) (1.4.8)\n",
      "Requirement already satisfied: packaging>=20.0 in /home/drake/miniconda3/envs/nyc_airbnb_dev/lib/python3.10/site-packages (from matplotlib<3.10,>=3.5->ydata-profiling==4.12.1) (23.2)\n",
      "Requirement already satisfied: pyparsing>=2.3.1 in /home/drake/miniconda3/envs/nyc_airbnb_dev/lib/python3.10/site-packages (from matplotlib<3.10,>=3.5->ydata-profiling==4.12.1) (3.2.3)\n",
      "Requirement already satisfied: python-dateutil>=2.7 in /home/drake/miniconda3/envs/nyc_airbnb_dev/lib/python3.10/site-packages (from matplotlib<3.10,>=3.5->ydata-profiling==4.12.1) (2.9.0.post0)\n",
      "Requirement already satisfied: llvmlite<0.45,>=0.44.0dev0 in /home/drake/miniconda3/envs/nyc_airbnb_dev/lib/python3.10/site-packages (from numba<1,>=0.56.0->ydata-profiling==4.12.1) (0.44.0)\n",
      "Requirement already satisfied: pytz>=2020.1 in /home/drake/miniconda3/envs/nyc_airbnb_dev/lib/python3.10/site-packages (from pandas!=1.4.0,<3,>1.1->ydata-profiling==4.12.1) (2023.4)\n",
      "Requirement already satisfied: tzdata>=2022.1 in /home/drake/miniconda3/envs/nyc_airbnb_dev/lib/python3.10/site-packages (from pandas!=1.4.0,<3,>1.1->ydata-profiling==4.12.1) (2025.2)\n",
      "Requirement already satisfied: joblib>=0.14.1 in /home/drake/miniconda3/envs/nyc_airbnb_dev/lib/python3.10/site-packages (from phik<0.13,>=0.11.1->ydata-profiling==4.12.1) (1.5.1)\n",
      "Requirement already satisfied: annotated-types>=0.6.0 in /home/drake/miniconda3/envs/nyc_airbnb_dev/lib/python3.10/site-packages (from pydantic>=2->ydata-profiling==4.12.1) (0.7.0)\n",
      "Requirement already satisfied: pydantic-core==2.33.2 in /home/drake/miniconda3/envs/nyc_airbnb_dev/lib/python3.10/site-packages (from pydantic>=2->ydata-profiling==4.12.1) (2.33.2)\n",
      "Requirement already satisfied: typing-extensions>=4.12.2 in /home/drake/miniconda3/envs/nyc_airbnb_dev/lib/python3.10/site-packages (from pydantic>=2->ydata-profiling==4.12.1) (4.14.0)\n",
      "Requirement already satisfied: typing-inspection>=0.4.0 in /home/drake/miniconda3/envs/nyc_airbnb_dev/lib/python3.10/site-packages (from pydantic>=2->ydata-profiling==4.12.1) (0.4.1)\n",
      "Requirement already satisfied: charset_normalizer<4,>=2 in /home/drake/miniconda3/envs/nyc_airbnb_dev/lib/python3.10/site-packages (from requests<3,>=2.24.0->ydata-profiling==4.12.1) (3.4.2)\n",
      "Requirement already satisfied: idna<4,>=2.5 in /home/drake/miniconda3/envs/nyc_airbnb_dev/lib/python3.10/site-packages (from requests<3,>=2.24.0->ydata-profiling==4.12.1) (3.10)\n",
      "Requirement already satisfied: urllib3<3,>=1.21.1 in /home/drake/miniconda3/envs/nyc_airbnb_dev/lib/python3.10/site-packages (from requests<3,>=2.24.0->ydata-profiling==4.12.1) (2.5.0)\n",
      "Requirement already satisfied: certifi>=2017.4.17 in /home/drake/miniconda3/envs/nyc_airbnb_dev/lib/python3.10/site-packages (from requests<3,>=2.24.0->ydata-profiling==4.12.1) (2025.6.15)\n",
      "Requirement already satisfied: patsy>=0.5.6 in /home/drake/miniconda3/envs/nyc_airbnb_dev/lib/python3.10/site-packages (from statsmodels<1,>=0.13.2->ydata-profiling==4.12.1) (1.0.1)\n",
      "Requirement already satisfied: attrs>=19.3.0 in /home/drake/miniconda3/envs/nyc_airbnb_dev/lib/python3.10/site-packages (from visions<0.7.7,>=0.7.5->visions[type_image_path]<0.7.7,>=0.7.5->ydata-profiling==4.12.1) (25.3.0)\n",
      "Requirement already satisfied: networkx>=2.4 in /home/drake/miniconda3/envs/nyc_airbnb_dev/lib/python3.10/site-packages (from visions<0.7.7,>=0.7.5->visions[type_image_path]<0.7.7,>=0.7.5->ydata-profiling==4.12.1) (3.4.2)\n",
      "\u001b[33mWARNING: visions 0.7.6 does not provide the extra 'type-image-path'\u001b[0m\u001b[33m\n",
      "\u001b[0mRequirement already satisfied: six>=1.5 in /home/drake/miniconda3/envs/nyc_airbnb_dev/lib/python3.10/site-packages (from python-dateutil>=2.7->matplotlib<3.10,>=3.5->ydata-profiling==4.12.1) (1.17.0)\n",
      "Requirement already satisfied: pandas==2.1.3 in /home/drake/miniconda3/envs/nyc_airbnb_dev/lib/python3.10/site-packages (2.1.3)\n",
      "Requirement already satisfied: numpy<2,>=1.22.4 in /home/drake/miniconda3/envs/nyc_airbnb_dev/lib/python3.10/site-packages (from pandas==2.1.3) (1.26.4)\n",
      "Requirement already satisfied: python-dateutil>=2.8.2 in /home/drake/miniconda3/envs/nyc_airbnb_dev/lib/python3.10/site-packages (from pandas==2.1.3) (2.9.0.post0)\n",
      "Requirement already satisfied: pytz>=2020.1 in /home/drake/miniconda3/envs/nyc_airbnb_dev/lib/python3.10/site-packages (from pandas==2.1.3) (2023.4)\n",
      "Requirement already satisfied: tzdata>=2022.1 in /home/drake/miniconda3/envs/nyc_airbnb_dev/lib/python3.10/site-packages (from pandas==2.1.3) (2025.2)\n",
      "Requirement already satisfied: six>=1.5 in /home/drake/miniconda3/envs/nyc_airbnb_dev/lib/python3.10/site-packages (from python-dateutil>=2.8.2->pandas==2.1.3) (1.17.0)\n"
     ]
    }
   ],
   "source": [
    "!pip install wandb==0.16.0\n",
    "!pip install ydata-profiling==4.12.1\n",
    "!pip install pandas==2.1.3"
   ]
  },
  {
   "cell_type": "markdown",
   "id": "54c4f98a",
   "metadata": {},
   "source": [
    "1. Fetch the artifact we just created (sample.csv) from W&B and read it with pandas:"
   ]
  },
  {
   "cell_type": "code",
   "execution_count": 2,
   "id": "eed98c34",
   "metadata": {},
   "outputs": [
    {
     "name": "stderr",
     "output_type": "stream",
     "text": [
      "/home/drake/miniconda3/envs/nyc_airbnb_dev/lib/python3.10/site-packages/wandb/sdk/launch/builder/build.py:11: UserWarning: pkg_resources is deprecated as an API. See https://setuptools.pypa.io/en/latest/pkg_resources.html. The pkg_resources package is slated for removal as early as 2025-11-30. Refrain from using this package or pin to Setuptools<81.\n",
      "  import pkg_resources\n",
      "/home/drake/miniconda3/envs/nyc_airbnb_dev/lib/python3.10/site-packages/wandb/sdk/launch/builder/build.py:11: UserWarning: pkg_resources is deprecated as an API. See https://setuptools.pypa.io/en/latest/pkg_resources.html. The pkg_resources package is slated for removal as early as 2025-11-30. Refrain from using this package or pin to Setuptools<81.\n",
      "  import pkg_resources\n",
      "\u001b[34m\u001b[1mwandb\u001b[0m: Currently logged in as: \u001b[33mrupple20\u001b[0m (\u001b[33mrupple20-self\u001b[0m). Use \u001b[1m`wandb login --relogin`\u001b[0m to force relogin\n",
      "Thread HandlerThread:\n",
      "Traceback (most recent call last):\n",
      "  File \"/home/drake/miniconda3/envs/nyc_airbnb_dev/lib/python3.10/site-packages/wandb/sdk/internal/internal_util.py\", line 49, in run\n",
      "    self._run()\n",
      "  File \"/home/drake/miniconda3/envs/nyc_airbnb_dev/lib/python3.10/site-packages/wandb/sdk/internal/internal_util.py\", line 100, in _run\n",
      "    self._process(record)\n",
      "  File \"/home/drake/miniconda3/envs/nyc_airbnb_dev/lib/python3.10/site-packages/wandb/sdk/internal/internal.py\", line 279, in _process\n",
      "    self._hm.handle(record)\n",
      "  File \"/home/drake/miniconda3/envs/nyc_airbnb_dev/lib/python3.10/site-packages/wandb/sdk/internal/handler.py\", line 138, in handle\n",
      "    handler(record)\n",
      "  File \"/home/drake/miniconda3/envs/nyc_airbnb_dev/lib/python3.10/site-packages/wandb/sdk/internal/handler.py\", line 148, in handle_request\n",
      "    handler(record)\n",
      "  File \"/home/drake/miniconda3/envs/nyc_airbnb_dev/lib/python3.10/site-packages/wandb/sdk/internal/handler.py\", line 683, in handle_request_run_start\n",
      "    self._system_monitor.probe(publish=True)\n",
      "  File \"/home/drake/miniconda3/envs/nyc_airbnb_dev/lib/python3.10/site-packages/wandb/sdk/internal/system/system_monitor.py\", line 228, in probe\n",
      "    self.system_info.publish(system_info)\n",
      "  File \"/home/drake/miniconda3/envs/nyc_airbnb_dev/lib/python3.10/site-packages/wandb/sdk/internal/system/system_info.py\", line 255, in publish\n",
      "    self._save_patches()\n",
      "  File \"/home/drake/miniconda3/envs/nyc_airbnb_dev/lib/python3.10/site-packages/wandb/sdk/internal/system/system_info.py\", line 146, in _save_patches\n",
      "    upstream_commit = self.git.get_upstream_fork_point()\n",
      "  File \"/home/drake/miniconda3/envs/nyc_airbnb_dev/lib/python3.10/site-packages/wandb/sdk/lib/gitlib.py\", line 200, in get_upstream_fork_point\n",
      "    possible_relatives.append(tracking_branch.commit)\n",
      "  File \"/home/drake/miniconda3/envs/nyc_airbnb_dev/lib/python3.10/site-packages/git/refs/symbolic.py\", line 297, in _get_commit\n",
      "    obj = self._get_object()\n",
      "  File \"/home/drake/miniconda3/envs/nyc_airbnb_dev/lib/python3.10/site-packages/git/refs/symbolic.py\", line 288, in _get_object\n",
      "    return Object.new_from_sha(self.repo, hex_to_bin(self.dereference_recursive(self.repo, self.path)))\n",
      "  File \"/home/drake/miniconda3/envs/nyc_airbnb_dev/lib/python3.10/site-packages/git/objects/base.py\", line 149, in new_from_sha\n",
      "    oinfo = repo.odb.info(sha1)\n",
      "  File \"/home/drake/miniconda3/envs/nyc_airbnb_dev/lib/python3.10/site-packages/git/db.py\", line 41, in info\n",
      "    hexsha, typename, size = self._git.get_object_header(bin_to_hex(binsha))\n",
      "  File \"/home/drake/miniconda3/envs/nyc_airbnb_dev/lib/python3.10/site-packages/git/cmd.py\", line 1679, in get_object_header\n",
      "    return self.__get_object_header(cmd, ref)\n",
      "  File \"/home/drake/miniconda3/envs/nyc_airbnb_dev/lib/python3.10/site-packages/git/cmd.py\", line 1662, in __get_object_header\n",
      "    cmd.stdin.flush()\n",
      "BrokenPipeError: [Errno 32] Broken pipe\n",
      "wandb: ERROR Internal wandb error: file data was not synced\n"
     ]
    },
    {
     "name": "stdout",
     "output_type": "stream",
     "text": [
      "Problem at: /tmp/ipykernel_1533/3270974856.py 4 <module>\n"
     ]
    },
    {
     "ename": "MailboxError",
     "evalue": "transport failed",
     "output_type": "error",
     "traceback": [
      "\u001b[0;31m---------------------------------------------------------------------------\u001b[0m",
      "\u001b[0;31mMailboxError\u001b[0m                              Traceback (most recent call last)",
      "Cell \u001b[0;32mIn[2], line 4\u001b[0m\n\u001b[1;32m      2\u001b[0m \u001b[38;5;28;01mimport\u001b[39;00m\u001b[38;5;250m \u001b[39m\u001b[38;5;21;01mpandas\u001b[39;00m\u001b[38;5;250m \u001b[39m\u001b[38;5;28;01mas\u001b[39;00m\u001b[38;5;250m \u001b[39m\u001b[38;5;21;01mpd\u001b[39;00m\n\u001b[1;32m      3\u001b[0m \u001b[38;5;66;03m# Note that we use save_code=True in the call to wandb.init so the notebook is uploaded and versioned by W&B\u001b[39;00m\n\u001b[0;32m----> 4\u001b[0m run \u001b[38;5;241m=\u001b[39m \u001b[43mwandb\u001b[49m\u001b[38;5;241;43m.\u001b[39;49m\u001b[43minit\u001b[49m\u001b[43m(\u001b[49m\u001b[43mproject\u001b[49m\u001b[38;5;241;43m=\u001b[39;49m\u001b[38;5;124;43m\"\u001b[39;49m\u001b[38;5;124;43mnyc_airbnb\u001b[39;49m\u001b[38;5;124;43m\"\u001b[39;49m\u001b[43m,\u001b[49m\u001b[43m \u001b[49m\u001b[43mgroup\u001b[49m\u001b[38;5;241;43m=\u001b[39;49m\u001b[38;5;124;43m\"\u001b[39;49m\u001b[38;5;124;43meda\u001b[39;49m\u001b[38;5;124;43m\"\u001b[39;49m\u001b[43m,\u001b[49m\u001b[43m \u001b[49m\u001b[43msave_code\u001b[49m\u001b[38;5;241;43m=\u001b[39;49m\u001b[38;5;28;43;01mTrue\u001b[39;49;00m\u001b[43m)\u001b[49m\n\u001b[1;32m      5\u001b[0m local_path \u001b[38;5;241m=\u001b[39m wandb\u001b[38;5;241m.\u001b[39muse_artifact(\u001b[38;5;124m\"\u001b[39m\u001b[38;5;124msample.csv:latest\u001b[39m\u001b[38;5;124m\"\u001b[39m)\u001b[38;5;241m.\u001b[39mfile()\n\u001b[1;32m      6\u001b[0m df \u001b[38;5;241m=\u001b[39m pd\u001b[38;5;241m.\u001b[39mread_csv(local_path)\n",
      "File \u001b[0;32m~/miniconda3/envs/nyc_airbnb_dev/lib/python3.10/site-packages/wandb/sdk/wandb_init.py:1185\u001b[0m, in \u001b[0;36minit\u001b[0;34m(job_type, dir, config, project, entity, reinit, tags, group, name, notes, magic, config_exclude_keys, config_include_keys, anonymous, mode, allow_val_change, resume, force, tensorboard, sync_tensorboard, monitor_gym, save_code, id, settings)\u001b[0m\n\u001b[1;32m   1183\u001b[0m     \u001b[38;5;28;01mif\u001b[39;00m logger \u001b[38;5;129;01mis\u001b[39;00m \u001b[38;5;129;01mnot\u001b[39;00m \u001b[38;5;28;01mNone\u001b[39;00m:\n\u001b[1;32m   1184\u001b[0m         logger\u001b[38;5;241m.\u001b[39mexception(\u001b[38;5;28mstr\u001b[39m(e))\n\u001b[0;32m-> 1185\u001b[0m     \u001b[38;5;28;01mraise\u001b[39;00m e\n\u001b[1;32m   1186\u001b[0m \u001b[38;5;28;01mexcept\u001b[39;00m \u001b[38;5;167;01mKeyboardInterrupt\u001b[39;00m \u001b[38;5;28;01mas\u001b[39;00m e:\n\u001b[1;32m   1187\u001b[0m     \u001b[38;5;28;01massert\u001b[39;00m logger\n",
      "File \u001b[0;32m~/miniconda3/envs/nyc_airbnb_dev/lib/python3.10/site-packages/wandb/sdk/wandb_init.py:1166\u001b[0m, in \u001b[0;36minit\u001b[0;34m(job_type, dir, config, project, entity, reinit, tags, group, name, notes, magic, config_exclude_keys, config_include_keys, anonymous, mode, allow_val_change, resume, force, tensorboard, sync_tensorboard, monitor_gym, save_code, id, settings)\u001b[0m\n\u001b[1;32m   1164\u001b[0m except_exit \u001b[38;5;241m=\u001b[39m wi\u001b[38;5;241m.\u001b[39msettings\u001b[38;5;241m.\u001b[39m_except_exit\n\u001b[1;32m   1165\u001b[0m \u001b[38;5;28;01mtry\u001b[39;00m:\n\u001b[0;32m-> 1166\u001b[0m     run \u001b[38;5;241m=\u001b[39m \u001b[43mwi\u001b[49m\u001b[38;5;241;43m.\u001b[39;49m\u001b[43minit\u001b[49m\u001b[43m(\u001b[49m\u001b[43m)\u001b[49m\n\u001b[1;32m   1167\u001b[0m     except_exit \u001b[38;5;241m=\u001b[39m wi\u001b[38;5;241m.\u001b[39msettings\u001b[38;5;241m.\u001b[39m_except_exit\n\u001b[1;32m   1168\u001b[0m \u001b[38;5;28;01mexcept\u001b[39;00m (\u001b[38;5;167;01mKeyboardInterrupt\u001b[39;00m, \u001b[38;5;167;01mException\u001b[39;00m) \u001b[38;5;28;01mas\u001b[39;00m e:\n",
      "File \u001b[0;32m~/miniconda3/envs/nyc_airbnb_dev/lib/python3.10/site-packages/wandb/sdk/wandb_init.py:811\u001b[0m, in \u001b[0;36m_WandbInit.init\u001b[0;34m(self)\u001b[0m\n\u001b[1;32m    809\u001b[0m run_start_handle \u001b[38;5;241m=\u001b[39m backend\u001b[38;5;241m.\u001b[39minterface\u001b[38;5;241m.\u001b[39mdeliver_run_start(run\u001b[38;5;241m.\u001b[39m_run_obj)\n\u001b[1;32m    810\u001b[0m \u001b[38;5;66;03m# TODO: add progress to let user know we are doing something\u001b[39;00m\n\u001b[0;32m--> 811\u001b[0m run_start_result \u001b[38;5;241m=\u001b[39m \u001b[43mrun_start_handle\u001b[49m\u001b[38;5;241;43m.\u001b[39;49m\u001b[43mwait\u001b[49m\u001b[43m(\u001b[49m\u001b[43mtimeout\u001b[49m\u001b[38;5;241;43m=\u001b[39;49m\u001b[38;5;241;43m30\u001b[39;49m\u001b[43m)\u001b[49m\n\u001b[1;32m    812\u001b[0m \u001b[38;5;28;01mif\u001b[39;00m run_start_result \u001b[38;5;129;01mis\u001b[39;00m \u001b[38;5;28;01mNone\u001b[39;00m:\n\u001b[1;32m    813\u001b[0m     run_start_handle\u001b[38;5;241m.\u001b[39mabandon()\n",
      "File \u001b[0;32m~/miniconda3/envs/nyc_airbnb_dev/lib/python3.10/site-packages/wandb/sdk/lib/mailbox.py:281\u001b[0m, in \u001b[0;36mMailboxHandle.wait\u001b[0;34m(self, timeout, on_probe, on_progress, release, cancel)\u001b[0m\n\u001b[1;32m    279\u001b[0m \u001b[38;5;28;01mif\u001b[39;00m \u001b[38;5;28mself\u001b[39m\u001b[38;5;241m.\u001b[39m_keepalive \u001b[38;5;129;01mand\u001b[39;00m \u001b[38;5;28mself\u001b[39m\u001b[38;5;241m.\u001b[39m_interface:\n\u001b[1;32m    280\u001b[0m     \u001b[38;5;28;01mif\u001b[39;00m \u001b[38;5;28mself\u001b[39m\u001b[38;5;241m.\u001b[39m_interface\u001b[38;5;241m.\u001b[39m_transport_keepalive_failed():\n\u001b[0;32m--> 281\u001b[0m         \u001b[38;5;28;01mraise\u001b[39;00m MailboxError(\u001b[38;5;124m\"\u001b[39m\u001b[38;5;124mtransport failed\u001b[39m\u001b[38;5;124m\"\u001b[39m)\n\u001b[1;32m    283\u001b[0m found, abandoned \u001b[38;5;241m=\u001b[39m \u001b[38;5;28mself\u001b[39m\u001b[38;5;241m.\u001b[39m_slot\u001b[38;5;241m.\u001b[39m_get_and_clear(timeout\u001b[38;5;241m=\u001b[39mwait_timeout)\n\u001b[1;32m    284\u001b[0m \u001b[38;5;28;01mif\u001b[39;00m found:\n\u001b[1;32m    285\u001b[0m     \u001b[38;5;66;03m# Always update progress to 100% when done\u001b[39;00m\n",
      "\u001b[0;31mMailboxError\u001b[0m: transport failed"
     ]
    }
   ],
   "source": [
    "import wandb\n",
    "import pandas as pd\n",
    "# Note that we use save_code=True in the call to wandb.init so the notebook is uploaded and versioned by W&B\n",
    "run = wandb.init(project=\"nyc_airbnb\", group=\"eda\", save_code=True)\n",
    "local_path = wandb.use_artifact(\"sample.csv:latest\").file()\n",
    "df = pd.read_csv(local_path)"
   ]
  },
  {
   "cell_type": "markdown",
   "id": "472b8c0d",
   "metadata": {},
   "source": [
    "2. Explore the data in df"
   ]
  },
  {
   "cell_type": "code",
   "execution_count": null,
   "id": "e7902159",
   "metadata": {},
   "outputs": [],
   "source": [
    "df.info()"
   ]
  },
  {
   "cell_type": "code",
   "execution_count": null,
   "id": "ef6f1457",
   "metadata": {},
   "outputs": [],
   "source": [
    "df.describe()"
   ]
  },
  {
   "cell_type": "code",
   "execution_count": null,
   "id": "13548f59",
   "metadata": {},
   "outputs": [],
   "source": [
    "df.head()"
   ]
  },
  {
   "cell_type": "markdown",
   "id": "ecfee692",
   "metadata": {},
   "source": [
    "3. What do you notice in the data? Look around and see what you can find.\n",
    "\n",
    "> For example, there are missing values in a few columns and the column `last_review` is a date but it is in string format. Look also at the `price` column, and note the outliers. There are some zeros and some very high prices. After talking to your stakeholders, you decide to consider from a minimum of `$10` to a maximum of `$350` per night."
   ]
  },
  {
   "cell_type": "markdown",
   "id": "b4bb415f",
   "metadata": {},
   "source": [
    "4. Fix some of the little problems we have found in the data with the following code:"
   ]
  },
  {
   "cell_type": "code",
   "execution_count": null,
   "id": "4d685317",
   "metadata": {},
   "outputs": [],
   "source": [
    "# Drop outliers\n",
    "min_price = 10\n",
    "max_price = 350\n",
    "idx = df['price'].between(min_price, max_price)\n",
    "df = df[idx].copy()\n",
    "# Convert last_review to datetime\n",
    "df['last_review'] = pd.to_datetime(df['last_review'])"
   ]
  },
  {
   "cell_type": "markdown",
   "id": "17990df4",
   "metadata": {},
   "source": [
    "Note how we did not impute missing values. We will do that in the inference pipeline, so we will be able to handle missing values also in production."
   ]
  },
  {
   "cell_type": "markdown",
   "id": "09287f29",
   "metadata": {},
   "source": [
    "5. Check with df.info() that all obvious problems have been solved"
   ]
  },
  {
   "cell_type": "code",
   "execution_count": null,
   "id": "b83b4970",
   "metadata": {},
   "outputs": [],
   "source": [
    "df.info()"
   ]
  },
  {
   "cell_type": "markdown",
   "id": "d727e697",
   "metadata": {},
   "source": [
    "6. Terminate the run by running `run.finish()`"
   ]
  },
  {
   "cell_type": "code",
   "execution_count": null,
   "id": "48b38586",
   "metadata": {},
   "outputs": [],
   "source": [
    "run.finish()"
   ]
  },
  {
   "cell_type": "markdown",
   "id": "13f82b21",
   "metadata": {},
   "source": [
    "7. Save the notebook."
   ]
  }
 ],
 "metadata": {
  "kernelspec": {
   "display_name": "Python 3 (ipykernel)",
   "language": "python",
   "name": "python3"
  },
  "language_info": {
   "codemirror_mode": {
    "name": "ipython",
    "version": 3
   },
   "file_extension": ".py",
   "mimetype": "text/x-python",
   "name": "python",
   "nbconvert_exporter": "python",
   "pygments_lexer": "ipython3",
   "version": "3.10.18"
  }
 },
 "nbformat": 4,
 "nbformat_minor": 5
}
